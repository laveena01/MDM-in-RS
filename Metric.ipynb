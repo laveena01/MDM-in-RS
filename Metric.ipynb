{
  "cells": [
    {
      "cell_type": "markdown",
      "metadata": {
        "id": "view-in-github",
        "colab_type": "text"
      },
      "source": [
        "<a href=\"https://colab.research.google.com/github/laveena01/apriori/blob/apriori/Metric.ipynb\" target=\"_parent\"><img src=\"https://colab.research.google.com/assets/colab-badge.svg\" alt=\"Open In Colab\"/></a>"
      ]
    },
    {
      "cell_type": "code",
      "execution_count": null,
      "metadata": {
        "colab": {
          "base_uri": "https://localhost:8080/"
        },
        "id": "ha4CLEnGxNut",
        "outputId": "97debb49-ff80-4824-e167-7138f82329e3"
      },
      "outputs": [
        {
          "name": "stdout",
          "output_type": "stream",
          "text": [
            "Mounted at /content/drive\n"
          ]
        }
      ],
      "source": [
        "from google.colab import drive\n",
        "drive.mount('/content/drive')"
      ]
    },
    {
      "cell_type": "code",
      "execution_count": null,
      "metadata": {
        "id": "z5uLoWJMuZ_a"
      },
      "outputs": [],
      "source": [
        "class bndresult:\n",
        "    def __init__(self, x1, y1, x2, y2, categories=None, confidence=None):\n",
        "        self.x1 = x1\n",
        "        self.x2 = x2\n",
        "        self.y1 = y1\n",
        "        self.y2 = y2\n",
        "        self.categories = categories\n",
        "        if confidence is not None:\n",
        "            self.confidence = round(confidence, 2)\n",
        "        else:\n",
        "            self.confidence = None\n",
        "\n",
        "    def __str__(self):\n",
        "        return f\"{self.x1} {self.y1} {self.x2} {self.y2}\"\n",
        "\n",
        "    def __eq__(self, other):\n",
        "        return self.x1 == other.x1 and self.x2 == other.x2 and self.y1 == other.y1 and self.y2 == other.y2\n",
        "\n",
        "    def __repr__(self):\n",
        "      return self.__str__()"
      ]
    },
    {
      "cell_type": "code",
      "execution_count": null,
      "metadata": {
        "id": "OxLVoTIBt0e1"
      },
      "outputs": [],
      "source": [
        "def comparePretoGt(pre, gt):\n",
        "    TP = 0\n",
        "    for i in gt:\n",
        "        for j in pre:\n",
        "            iou = compute_iou(i, j)\n",
        "            if iou >= 0.50:\n",
        "                TP = TP + 1\n",
        "\n",
        "    FN = len(gt) - TP\n",
        "    FP = len(pre) - TP\n",
        "    # print(TP, FN, FP)\n",
        "    return TP"
      ]
    },
    {
      "cell_type": "code",
      "execution_count": null,
      "metadata": {
        "id": "pdd7FExJuJ6I"
      },
      "outputs": [],
      "source": [
        "def compute_iou(a, b, flag=True):\n",
        "    S_rec1 = (a.x2 - a.x1) * (a.y2 - a.y1)\n",
        "    S_rec2 = (b.x2 - b.x1) * (b.y2 - b.y1)\n",
        "    if not flag:\n",
        "        sum_area = min(S_rec1, S_rec2)\n",
        "    else:\n",
        "        sum_area = S_rec1 + S_rec2\n",
        "    left_line = max(a.y1, b.y1)\n",
        "    right_line = min(a.y2, b.y2)\n",
        "    top_line = max(a.x1, b.x1)\n",
        "    bottom_line = min(a.x2, b.x2)\n",
        "\n",
        "    if left_line >= right_line or top_line >= bottom_line:\n",
        "        return 0\n",
        "    else:\n",
        "        intersect = (right_line - left_line) * (bottom_line - top_line)\n",
        "        if sum_area == intersect:\n",
        "            return 1\n",
        "        return float(intersect) / (sum_area - intersect)"
      ]
    },
    {
      "cell_type": "code",
      "execution_count": null,
      "metadata": {
        "id": "3mgJ3rJEusVb"
      },
      "outputs": [],
      "source": [
        "import pandas as pd\n",
        "import re\n",
        "\n",
        "def genGT():\n",
        "  return [bndresult(0.71478289, 0.60199374, 0.83409768, 0.74532181)]\n",
        "\n",
        "def getPre():\n",
        "  return [bndresult(0.71478289, 0.60199374, 0.83409768, 0.74532181)]"
      ]
    },
    {
      "cell_type": "code",
      "execution_count": null,
      "metadata": {
        "id": "XjolCyaKrBve"
      },
      "outputs": [],
      "source": [
        "bbox_gt = genGT()\n",
        "bbox_pre = getPre()"
      ]
    },
    {
      "cell_type": "code",
      "execution_count": null,
      "metadata": {
        "colab": {
          "base_uri": "https://localhost:8080/"
        },
        "id": "BofOf_-gquJ6",
        "outputId": "3966325c-f9d2-4a6f-d3ce-bda18cdfafac"
      },
      "outputs": [
        {
          "name": "stdout",
          "output_type": "stream",
          "text": [
            "YOLO - TP = 288 - FP = 140 - FN = 0\n",
            "Precision = 0.673 Recall = 1.000\n"
          ]
        }
      ],
      "source": [
        "TP = 0\n",
        "\n",
        "df = pd.read_csv(\"/content/drive/MyDrive/final_ensemble/yolo.csv\")\n",
        "df_org = pd.read_csv(\"/content/drive/MyDrive/final_ensemble/gt.csv\")\n",
        "\n",
        "img = df_org[\"img\"].unique()\n",
        "for i in img:\n",
        "  bbox_gt = []\n",
        "  bbox_pre = []\n",
        "  # print(i)\n",
        "\n",
        "  # print(df[df['img']==i])\n",
        "\n",
        "  for k,j in df[df['img']==i].iterrows():\n",
        "    bbox_pre.append(bndresult(float(j.x1), float(j.y1), float(j.x2), float(j.y2)))\n",
        "\n",
        "  for k,j in df_org[df_org['img']==i].iterrows():\n",
        "    bbox_gt.append(bndresult(float(j.x1), float(j.y1), float(j.x2), float(j.y2)))\n",
        "  # print(bbox_gt)\n",
        "  # print(bbox_pre)\n",
        "  # print(len(bbox_pre))\n",
        "  value_temp = comparePretoGt(bbox_pre, bbox_gt)\n",
        "  TP = TP + value_temp\n",
        "\n",
        "FP = len(df_org) - TP\n",
        "FN = len(df) - TP\n",
        "p = TP / (TP + FP)\n",
        "r = TP / (TP + FN)\n",
        "\n",
        "print(f\"YOLO - TP = {TP} - FP = {FP} - FN = {FN}\")\n",
        "print(f\"Precision = {p:.3f} Recall = {r:.3f}\")"
      ]
    },
    {
      "cell_type": "code",
      "execution_count": null,
      "metadata": {
        "colab": {
          "base_uri": "https://localhost:8080/"
        },
        "id": "GsekDqJBIVdE",
        "outputId": "b8258e75-d3a9-41a5-b6ff-840fedb46ccf"
      },
      "outputs": [
        {
          "name": "stdout",
          "output_type": "stream",
          "text": [
            "CBAM L1- TP = 342 - FP = 86 - FN = 167\n",
            "Precision = 0.799 Recall = 0.672\n"
          ]
        }
      ],
      "source": [
        "TP = 0\n",
        "\n",
        "df = pd.read_csv(\"/content/drive/MyDrive/final_ensemble/cbaml1.csv\")\n",
        "df_org = pd.read_csv(\"/content/drive/MyDrive/final_ensemble/gt.csv\")\n",
        "\n",
        "img = df_org[\"img\"].unique()\n",
        "for i in img:\n",
        "  bbox_gt = []\n",
        "  bbox_pre = []\n",
        "  # print(i)\n",
        "\n",
        "  # print(df[df['img']==i])\n",
        "\n",
        "  for k,j in df[df['img']==i].iterrows():\n",
        "    bbox_pre.append(bndresult(float(j.x1), float(j.y1), float(j.x2), float(j.y2)))\n",
        "\n",
        "  for k,j in df_org[df_org['img']==i].iterrows():\n",
        "    bbox_gt.append(bndresult(float(j.x1), float(j.y1), float(j.x2), float(j.y2)))\n",
        "  # print(bbox_gt)\n",
        "  # print(bbox_pre)\n",
        "  # print(len(bbox_pre))\n",
        "  value_temp = comparePretoGt(bbox_pre, bbox_gt)\n",
        "  TP = TP + value_temp\n",
        "\n",
        "FP = len(df_org) - TP\n",
        "FN = len(df) - TP\n",
        "p = TP / (TP + FP)\n",
        "r = TP / (TP + FN)\n",
        "\n",
        "print(f\"CBAM L1- TP = {TP} - FP = {FP} - FN = {FN}\")\n",
        "print(f\"Precision = {p:.3f} Recall = {r:.3f}\")"
      ]
    },
    {
      "cell_type": "code",
      "execution_count": null,
      "metadata": {
        "colab": {
          "base_uri": "https://localhost:8080/"
        },
        "id": "nG7o1ta1vSED",
        "outputId": "a492472c-726b-4366-c55a-a41dc83c3e0f"
      },
      "outputs": [
        {
          "name": "stdout",
          "output_type": "stream",
          "text": [
            "CBAM 3 layers- TP = 339 - FP = 89 - FN = 90\n",
            "Precision = 0.792 Recall = 0.790\n"
          ]
        }
      ],
      "source": [
        "TP = 0\n",
        "\n",
        "df = pd.read_csv(\"/content/drive/MyDrive/final_ensemble/cbaml3.csv\")\n",
        "df_org = pd.read_csv(\"/content/drive/MyDrive/final_ensemble/gt.csv\")\n",
        "\n",
        "img = df_org[\"img\"].unique()\n",
        "for i in img:\n",
        "  bbox_gt = []\n",
        "  bbox_pre = []\n",
        "  # print(i)\n",
        "\n",
        "  # print(df[df['img']==i])\n",
        "\n",
        "  for k,j in df[df['img']==i].iterrows():\n",
        "    bbox_pre.append(bndresult(float(j.x1), float(j.y1), float(j.x2), float(j.y2)))\n",
        "\n",
        "  for k,j in df_org[df_org['img']==i].iterrows():\n",
        "    bbox_gt.append(bndresult(float(j.x1), float(j.y1), float(j.x2), float(j.y2)))\n",
        "  # print(bbox_gt)\n",
        "  # print(bbox_pre)\n",
        "  # print(len(bbox_pre))\n",
        "  value_temp = comparePretoGt(bbox_pre, bbox_gt)\n",
        "  TP = TP + value_temp\n",
        "\n",
        "FP = len(df_org) - TP\n",
        "FN = len(df) - TP\n",
        "p = TP / (TP + FP)\n",
        "r = TP / (TP + FN)\n",
        "\n",
        "print(f\"CBAM 3 layers- TP = {TP} - FP = {FP} - FN = {FN}\")\n",
        "print(f\"Precision = {p:.3f} Recall = {r:.3f}\")"
      ]
    },
    {
      "cell_type": "code",
      "execution_count": null,
      "metadata": {
        "colab": {
          "base_uri": "https://localhost:8080/"
        },
        "id": "dP94PjbfHF42",
        "outputId": "aa378ca6-c097-4167-ed05-fdeb215a6305"
      },
      "outputs": [
        {
          "name": "stdout",
          "output_type": "stream",
          "text": [
            "CBAM1 YOLO - TP = 193 - FP = 235 - FN = 85\n",
            "Precision = 0.451 Recall = 0.694\n"
          ]
        }
      ],
      "source": [
        "TP = 0\n",
        "\n",
        "df = pd.read_csv(\"/content/drive/MyDrive/final_ensemble/ecbaml1.csv\")\n",
        "df_org = pd.read_csv(\"/content/drive/MyDrive/final_ensemble/gt.csv\")\n",
        "\n",
        "img = df_org[\"img\"].unique()\n",
        "for i in img:\n",
        "  bbox_gt = []\n",
        "  bbox_pre = []\n",
        "  # print(i)\n",
        "\n",
        "  # print(df[df['img']==i])\n",
        "\n",
        "  for k,j in df[df['img']==i].iterrows():\n",
        "    bbox_pre.append(bndresult(float(j.x1), float(j.y1), float(j.x2), float(j.y2)))\n",
        "\n",
        "  for k,j in df_org[df_org['img']==i].iterrows():\n",
        "    bbox_gt.append(bndresult(float(j.x1), float(j.y1), float(j.x2), float(j.y2)))\n",
        "  # print(bbox_gt)\n",
        "  # print(bbox_pre)\n",
        "  # print(len(bbox_pre))\n",
        "  value_temp = comparePretoGt(bbox_pre, bbox_gt)\n",
        "  TP = TP + value_temp\n",
        "\n",
        "FP = len(df_org) - TP\n",
        "FN = len(df) - TP\n",
        "p = TP / (TP + FP)\n",
        "r = TP / (TP + FN)\n",
        "\n",
        "print(f\"CBAM1 YOLO - TP = {TP} - FP = {FP} - FN = {FN}\")\n",
        "print(f\"Precision = {p:.3f} Recall = {r:.3f}\")"
      ]
    },
    {
      "cell_type": "code",
      "execution_count": null,
      "metadata": {
        "colab": {
          "background_save": true,
          "base_uri": "https://localhost:8080/"
        },
        "id": "KezcF7vLvfLD",
        "outputId": "165d8c2c-a7ab-4179-f793-b8399f6c645d"
      },
      "outputs": [
        {
          "name": "stdout",
          "output_type": "stream",
          "text": [
            "ENSEMBLE CBAM 3 LAYER ,YOLO- TP = 389 - FP = 39 - FN = 86\n",
            "Precision = 0.909 Recall = 0.819\n"
          ]
        }
      ],
      "source": [
        "TP = 0\n",
        "\n",
        "df = pd.read_csv(\"/content/drive/MyDrive/final_ensemble/ecbaml3.csv\")\n",
        "df_org = pd.read_csv(\"/content/drive/MyDrive/final_ensemble/gt.csv\")\n",
        "\n",
        "img = df_org[\"img\"].unique()\n",
        "for i in img:\n",
        "  bbox_gt = []\n",
        "  bbox_pre = []\n",
        "  # print(i)\n",
        "\n",
        "  # print(df[df['img']==i])\n",
        "\n",
        "  for k,j in df[df['img']==i].iterrows():\n",
        "    bbox_pre.append(bndresult(float(j.x1), float(j.y1), float(j.x2), float(j.y2)))\n",
        "\n",
        "  for k,j in df_org[df_org['img']==i].iterrows():\n",
        "    bbox_gt.append(bndresult(float(j.x1), float(j.y1), float(j.x2), float(j.y2)))\n",
        "  # print(bbox_gt)\n",
        "  # print(bbox_pre)\n",
        "  # print(len(bbox_pre))\n",
        "  value_temp = comparePretoGt(bbox_pre, bbox_gt)\n",
        "  TP = TP + value_temp\n",
        "\n",
        "FP = len(df_org) - TP\n",
        "FN = len(df) - TP\n",
        "p = TP / (TP + FP)\n",
        "r = TP / (TP + FN)\n",
        "\n",
        "print(f\"ENSEMBLE CBAM 3 LAYER ,YOLO- TP = {TP} - FP = {FP} - FN = {FN}\")\n",
        "print(f\"Precision = {p:.3f} Recall = {r:.3f}\")"
      ]
    },
    {
      "cell_type": "code",
      "execution_count": null,
      "metadata": {
        "colab": {
          "background_save": true,
          "base_uri": "https://localhost:8080/"
        },
        "id": "A2AwUsM40M8t",
        "outputId": "43874bba-2e30-4b49-d45a-38b6b469ea8c"
      },
      "outputs": [
        {
          "name": "stdout",
          "output_type": "stream",
          "text": [
            "Cbam1 softnms - TP = 395 - FP = 33 - FN = 160\n",
            "Precision = 0.923 Recall = 0.712\n"
          ]
        }
      ],
      "source": [
        "TP = 0\n",
        "\n",
        "df = pd.read_csv(\"/content/drive/MyDrive/ensemble/ensemble.csv\")\n",
        "df_org = pd.read_csv(\"/content/drive/MyDrive/ensemble/gt.csv\")\n",
        "\n",
        "img = df_org[\"img\"].unique()\n",
        "for i in img:\n",
        "  bbox_gt = []\n",
        "  bbox_pre = []\n",
        "  # print(i)\n",
        "\n",
        "  # print(df[df['img']==i])\n",
        "\n",
        "  for k,j in df[df['img']==i].iterrows():\n",
        "    bbox_pre.append(bndresult(float(j.x1), float(j.y1), float(j.x2), float(j.y2)))\n",
        "\n",
        "  for k,j in df_org[df_org['img']==i].iterrows():\n",
        "    bbox_gt.append(bndresult(float(j.x1), float(j.y1), float(j.x2), float(j.y2)))\n",
        "  # print(bbox_gt)\n",
        "  # print(bbox_pre)\n",
        "  # print(len(bbox_pre))\n",
        "  value_temp = comparePretoGt(bbox_pre, bbox_gt)\n",
        "  TP = TP + value_temp\n",
        "\n",
        "FP = len(df_org) - TP\n",
        "FN = len(df) - TP\n",
        "p = TP / (TP + FP)\n",
        "r = TP / (TP + FN)\n",
        "\n",
        "print(f\"YOLO HFRSOL - TP = {TP} - FP = {FP} - FN = {FN}\")\n",
        "print(f\"Precision = {p:.3f} Recall = {r:.3f}\")"
      ]
    },
    {
      "cell_type": "code",
      "execution_count": null,
      "metadata": {
        "colab": {
          "base_uri": "https://localhost:8080/"
        },
        "id": "PLaJghQFHfaV",
        "outputId": "8fd341b6-b88a-4cdb-caee-cc5e4d6e539f"
      },
      "outputs": [
        {
          "name": "stdout",
          "output_type": "stream",
          "text": [
            "YOLO CBAM - TP = 207 - FP = 10 - FN = 71\n",
            "Precision = 0.954 Recall = 0.745\n"
          ]
        }
      ],
      "source": [
        "TP = 0\n",
        "\n",
        "df = pd.read_csv(\"/content/drive/MyDrive/ensemble/ensemble_cbam.csv\")\n",
        "df_org = pd.read_csv(\"/content/drive/MyDrive/ensemble/gt.csv\")\n",
        "\n",
        "img = df_org[\"img\"].unique()\n",
        "for i in img:\n",
        "  bbox_gt = []\n",
        "  bbox_pre = []\n",
        "  # print(i)\n",
        "\n",
        "  # print(df[df['img']==i])\n",
        "\n",
        "  for k,j in df[df['img']==i].iterrows():\n",
        "    bbox_pre.append(bndresult(float(j.x1), float(j.y1), float(j.x2), float(j.y2)))\n",
        "\n",
        "  for k,j in df_org[df_org['img']==i].iterrows():\n",
        "    bbox_gt.append(bndresult(float(j.x1), float(j.y1), float(j.x2), float(j.y2)))\n",
        "  # print(bbox_gt)\n",
        "  # print(bbox_pre)\n",
        "  # print(len(bbox_pre))\n",
        "  value_temp = comparePretoGt(bbox_pre, bbox_gt)\n",
        "  TP = TP + value_temp\n",
        "\n",
        "FP = len(df_org) - TP\n",
        "FN = len(df) - TP\n",
        "p = TP / (TP + FP)\n",
        "r = TP / (TP + FN)\n",
        "\n",
        "print(f\"YOLO CBAM - TP = {TP} - FP = {FP} - FN = {FN}\")\n",
        "print(f\"Precision = {p:.3f} Recall = {r:.3f}\")"
      ]
    },
    {
      "cell_type": "code",
      "execution_count": null,
      "metadata": {
        "colab": {
          "base_uri": "https://localhost:8080/"
        },
        "id": "3nvPBg3lHrE5",
        "outputId": "75d28dc4-22e7-4db1-bc91-802f0acc22fe"
      },
      "outputs": [
        {
          "name": "stdout",
          "output_type": "stream",
          "text": [
            "ENSEMBLE CBAM(MORE WEIGHT 2,0.5) - TP = 207 - FP = 10 - FN = 71\n",
            "Precision = 0.954 Recall = 0.745\n"
          ]
        }
      ],
      "source": [
        "TP = 0\n",
        "\n",
        "df = pd.read_csv(\"/content/drive/MyDrive/ensemble/ensemble_CBAM_chng2.csv\")\n",
        "df_org = pd.read_csv(\"/content/drive/MyDrive/gt.csv\")\n",
        "\n",
        "img = df_org[\"img\"].unique()\n",
        "for i in img:\n",
        "  bbox_gt = []\n",
        "  bbox_pre = []\n",
        "  # print(i)\n",
        "\n",
        "  # print(df[df['img']==i])\n",
        "\n",
        "  for k,j in df[df['img']==i].iterrows():\n",
        "    bbox_pre.append(bndresult(float(j.x1), float(j.y1), float(j.x2), float(j.y2)))\n",
        "\n",
        "  for k,j in df_org[df_org['img']==i].iterrows():\n",
        "    bbox_gt.append(bndresult(float(j.x1), float(j.y1), float(j.x2), float(j.y2)))\n",
        "  # print(bbox_gt)\n",
        "  # print(bbox_pre)\n",
        "  # print(len(bbox_pre))\n",
        "  value_temp = comparePretoGt(bbox_pre, bbox_gt)\n",
        "  TP = TP + value_temp\n",
        "\n",
        "FP = len(df_org) - TP\n",
        "FN = len(df) - TP\n",
        "p = TP / (TP + FP)\n",
        "r = TP / (TP + FN)\n",
        "\n",
        "print(f\"ENSEMBLE CBAM(MORE WEIGHT 2,0.5) - TP = {TP} - FP = {FP} - FN = {FN}\")\n",
        "print(f\"Precision = {p:.3f} Recall = {r:.3f}\")"
      ]
    },
    {
      "cell_type": "markdown",
      "metadata": {
        "id": "zJLcEABRMDnG"
      },
      "source": [
        "## COMBINED RESULT"
      ]
    },
    {
      "cell_type": "code",
      "execution_count": null,
      "metadata": {
        "colab": {
          "base_uri": "https://localhost:8080/"
        },
        "id": "eUlzlC8fMG5G",
        "outputId": "cce2cb98-dd91-4f66-f152-ab3a6be6f8a3"
      },
      "outputs": [
        {
          "name": "stdout",
          "output_type": "stream",
          "text": [
            "HFRSOL- TP = 170 - FP = 47 - FN = 74\n",
            "Precision = 0.783 Recall = 0.697\n",
            "CBAM- TP = 199 - FP = 18 - FN = 72\n",
            "Precision = 0.917 Recall = 0.734\n",
            "CBAM 3 layers- TP = 138 - FP = 79 - FN = 0\n",
            "Precision = 0.636 Recall = 1.000\n",
            "YOLO- HFRSOL- TP = 180 - FP = 37 - FN = 74\n",
            "Precision = 0.829 Recall = 0.709\n",
            "YOLO-CBAM- TP = 207 - FP = 10 - FN = 71\n",
            "Precision = 0.954 Recall = 0.745\n",
            "CBAM-HFRSOL- TP = 54 - FP = 163 - FN = 242\n",
            "Precision = 0.249 Recall = 0.182\n",
            "YOLO-CBAM 3layers- TP = 178 - FP = 39 - FN = 51\n",
            "Precision = 0.820 Recall = 0.777\n",
            "YOLO-CBAM SOFTNMS- TP = 199 - FP = 18 - FN = 51\n",
            "Precision = 0.917 Recall = 0.796\n",
            "YOLO-CBAM NMW- TP = 308 - FP = -91 - FN = 74\n",
            "Precision = 1.419 Recall = 0.806\n",
            "YOLO-CBAM-WFB- TP = 199 - FP = 18 - FN = 72\n",
            "Precision = 0.917 Recall = 0.734\n",
            "YOLO-HFRSOL NMW- TP = 199 - FP = 18 - FN = 72\n",
            "Precision = 0.917 Recall = 0.734\n",
            "YOLO-HFRSOL SOFTNMS- TP = 318 - FP = -101 - FN = 74\n",
            "Precision = 1.465 Recall = 0.811\n",
            "YOLO-HFRSOL WFB- TP = 207 - FP = 10 - FN = 71\n",
            "Precision = 0.954 Recall = 0.745\n",
            "YOLO- TP = 207 - FP = 10 - FN = 71\n",
            "Precision = 0.954 Recall = 0.745\n"
          ]
        }
      ],
      "source": [
        "import glob\n",
        "import pandas as pd\n",
        "df_org = pd.read_csv(\"/content/drive/MyDrive/gt.csv\")\n",
        "ind=0\n",
        "model=[\"HFRSOL\",\"CBAM\",\"CBAM 3 layers\",\"YOLO- HFRSOL\",\"YOLO-CBAM\",\"CBAM-HFRSOL\",\"YOLO-CBAM 3layers\",\n",
        "       \"YOLO-CBAM SOFTNMS\",\"YOLO-CBAM NMW\",\"YOLO-CBAM-WFB\",\"YOLO-HFRSOL NMW\",\"YOLO-HFRSOL SOFTNMS\",\n",
        "       \"YOLO-HFRSOL WFB\",\"YOLO\"]\n",
        "for file in glob.glob('/content/drive/MyDrive/ensemble/*'):\n",
        "\n",
        "  TP = 0\n",
        "  df = pd.read_csv(file)\n",
        "  img = df_org[\"img\"].unique()\n",
        "  for i in img:\n",
        "    bbox_gt = []\n",
        "    bbox_pre = []\n",
        "    # print(i)\n",
        "\n",
        "    # print(df[df['img']==i])\n",
        "\n",
        "    for k,j in df[df['img']==i].iterrows():\n",
        "      bbox_pre.append(bndresult(float(j.x1), float(j.y1), float(j.x2), float(j.y2)))\n",
        "\n",
        "    for k,j in df_org[df_org['img']==i].iterrows():\n",
        "      bbox_gt.append(bndresult(float(j.x1), float(j.y1), float(j.x2), float(j.y2)))\n",
        "    # print(bbox_gt)\n",
        "    # print(bbox_pre)\n",
        "    # print(len(bbox_pre))\n",
        "    value_temp = comparePretoGt(bbox_pre, bbox_gt)\n",
        "    TP = TP + value_temp\n",
        "\n",
        "  FP = len(df_org) - TP\n",
        "  FN = len(df) - TP\n",
        "  p = TP / (TP + FP)\n",
        "  r = TP / (TP + FN)\n",
        "\n",
        "  print(f\"{model[ind]}- TP = {TP} - FP = {FP} - FN = {FN}\")\n",
        "  print(f\"Precision = {p:.3f} Recall = {r:.3f}\")\n",
        "  ind+=1"
      ]
    },
    {
      "cell_type": "code",
      "execution_count": null,
      "metadata": {
        "colab": {
          "base_uri": "https://localhost:8080/",
          "height": 130
        },
        "id": "qzosy39aNZQ5",
        "outputId": "261af0e7-7424-4fb9-a0e1-ea8fbb5ea72b"
      },
      "outputs": [
        {
          "ename": "SyntaxError",
          "evalue": "ignored",
          "output_type": "error",
          "traceback": [
            "\u001b[0;36m  File \u001b[0;32m\"<ipython-input-22-3e8b3f67b39a>\"\u001b[0;36m, line \u001b[0;32m1\u001b[0m\n\u001b[0;31m    for i in \"/content/drive/MyDrive/ensemble/*:\u001b[0m\n\u001b[0m                                                ^\u001b[0m\n\u001b[0;31mSyntaxError\u001b[0m\u001b[0;31m:\u001b[0m EOL while scanning string literal\n"
          ]
        }
      ],
      "source": [
        "for i in \"/content/drive/MyDrive/ensemble/*:\n",
        "  print(i)"
      ]
    },
    {
      "cell_type": "code",
      "execution_count": null,
      "metadata": {
        "id": "bc4RcNBOPrQP"
      },
      "outputs": [],
      "source": []
    }
  ],
  "metadata": {
    "colab": {
      "provenance": [],
      "include_colab_link": true
    },
    "kernelspec": {
      "display_name": "Python 3",
      "name": "python3"
    },
    "language_info": {
      "name": "python"
    }
  },
  "nbformat": 4,
  "nbformat_minor": 0
}